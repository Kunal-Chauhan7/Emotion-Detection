{
 "cells": [
  {
   "cell_type": "code",
   "execution_count": null,
   "id": "660985f0",
   "metadata": {},
   "outputs": [],
   "source": [
    "import pandas as pd\n",
    "import numpy as np\n",
    "import seaborn as sns"
   ]
  },
  {
   "cell_type": "code",
   "execution_count": null,
   "id": "a4e19e02",
   "metadata": {},
   "outputs": [],
   "source": [
    "df = pd.read_csv('emotion_dataset.csv');"
   ]
  },
  {
   "cell_type": "code",
   "execution_count": null,
   "id": "446bdf06",
   "metadata": {},
   "outputs": [],
   "source": [
    "df.head(10)"
   ]
  },
  {
   "cell_type": "code",
   "execution_count": null,
   "id": "b3ba21c1",
   "metadata": {},
   "outputs": [],
   "source": [
    "df.columns"
   ]
  },
  {
   "cell_type": "code",
   "execution_count": null,
   "id": "242a853a",
   "metadata": {},
   "outputs": [],
   "source": [
    "df['Emotion'].value_counts()"
   ]
  },
  {
   "cell_type": "code",
   "execution_count": null,
   "id": "81f7c260",
   "metadata": {},
   "outputs": [],
   "source": [
    "sns.countplot(x='Emotion',data=df)"
   ]
  },
  {
   "cell_type": "code",
   "execution_count": null,
   "id": "ef76d4e1",
   "metadata": {},
   "outputs": [],
   "source": [
    "import neattext.functions as nfx"
   ]
  },
  {
   "cell_type": "code",
   "execution_count": null,
   "id": "10917eb9",
   "metadata": {},
   "outputs": [],
   "source": [
    "df['Clean_text'] = df['Text'].apply(nfx.remove_userhandles)"
   ]
  },
  {
   "cell_type": "code",
   "execution_count": null,
   "id": "0104b881",
   "metadata": {},
   "outputs": [],
   "source": [
    "df['Clean_text'] = df['Clean_text'].apply(nfx.remove_stopwords)"
   ]
  },
  {
   "cell_type": "code",
   "execution_count": null,
   "id": "c461970e",
   "metadata": {},
   "outputs": [],
   "source": [
    "df"
   ]
  },
  {
   "cell_type": "code",
   "execution_count": null,
   "id": "eb1636eb",
   "metadata": {},
   "outputs": [],
   "source": [
    "x = df['Clean_text']\n",
    "y = df['Emotion']"
   ]
  },
  {
   "cell_type": "code",
   "execution_count": null,
   "id": "d3e1f496",
   "metadata": {},
   "outputs": [],
   "source": [
    "from sklearn.model_selection import train_test_split"
   ]
  },
  {
   "cell_type": "code",
   "execution_count": null,
   "id": "0a3562d6",
   "metadata": {},
   "outputs": [],
   "source": [
    "x_train , x_test , y_train , y_test = train_test_split(x,y,test_size=0.3,random_state=42)"
   ]
  },
  {
   "cell_type": "code",
   "execution_count": null,
   "id": "7c1adc0f",
   "metadata": {},
   "outputs": [],
   "source": [
    "from sklearn.pipeline import Pipeline\n",
    "from sklearn.feature_extraction.text import CountVectorizer\n",
    "from sklearn.svm import SVC\n",
    "from sklearn.ensemble import RandomForestClassifier\n",
    "from sklearn.linear_model import LogisticRegression"
   ]
  },
  {
   "cell_type": "code",
   "execution_count": null,
   "id": "b15cf32a",
   "metadata": {},
   "outputs": [],
   "source": [
    "pipe_lr = Pipeline(steps=[('cv',CountVectorizer()),('lr',LogisticRegression())])\n",
    "pipe_lr.fit(x_train,y_train)\n",
    "pipe_lr.score(x_test,y_test)"
   ]
  },
  {
   "cell_type": "code",
   "execution_count": null,
   "id": "b6c543ec",
   "metadata": {},
   "outputs": [],
   "source": [
    "pipe_svm = Pipeline(steps=[('cv',CountVectorizer()),('svc',SVC(kernel='rbf',C=10))])\n",
    "pipe_svm.fit(x_train,y_train)\n",
    "pipe_svm.score(x_test,y_test)"
   ]
  },
  {
   "cell_type": "code",
   "execution_count": null,
   "id": "c5877348",
   "metadata": {},
   "outputs": [],
   "source": [
    "pipe_rf = Pipeline(steps=[('cv',CountVectorizer()),('rf',RandomForestClassifier(n_estimators=10))])\n",
    "pipe_rf.fit(x_train,y_train)\n",
    "pipe_rf.score(x_test,y_test)"
   ]
  },
  {
   "cell_type": "code",
   "execution_count": null,
   "id": "7e7a2530",
   "metadata": {},
   "outputs": [],
   "source": [
    "import joblib\n",
    "pipline_file = open(\"emotion_detection.pkl\",\"wb\")\n",
    "joblib.dump(pipe_lr,pipline_file)\n",
    "pipline_file.close()"
   ]
  },
  {
   "cell_type": "code",
   "execution_count": null,
   "id": "706e3f62",
   "metadata": {},
   "outputs": [],
   "source": [
    "import streamlit as st\n",
    "\n",
    "import pandas as pd\n",
    "import numpy as np\n",
    "import altair as alt\n",
    "\n",
    "import joblib\n",
    "\n",
    "pipe_lr = joblib.load(open(\"emotion_detection.pkl\", \"rb\"))\n",
    "\n",
    "emotions_emoji_dict = {\"anger\": \"😠\", \"disgust\": \"🤮\", \"fear\": \"😨😱\", \"happy\": \"🤗\", \"joy\": \"😂\", \"neutral\": \"😐\", \"sad\": \"😔\",\"sadness\": \"😔\", \"shame\": \"😳\", \"surprise\": \"😮\"}\n",
    "\n",
    "\n",
    "def predict_emotions(docx):\n",
    "    results = pipe_lr.predict([docx])\n",
    "    return results[0]\n",
    "\n",
    "\n",
    "def get_prediction_proba(docx):\n",
    "    results = pipe_lr.predict_proba([docx])\n",
    "    return results\n",
    "\n",
    "\n",
    "def main():\n",
    "    st.title(\"Text Emotion Detection\")\n",
    "    st.subheader(\"Detect Emotions In Text\")\n",
    "\n",
    "    with st.form(key='my_form'):\n",
    "        raw_text = st.text_area(\"Type Here\")\n",
    "        submit_text = st.form_submit_button(label='Submit')\n",
    "\n",
    "    if submit_text:\n",
    "        col1, col2 = st.columns(2)\n",
    "\n",
    "        prediction = predict_emotions(raw_text)\n",
    "        probability = get_prediction_proba(raw_text)\n",
    "\n",
    "        with col1:\n",
    "            st.success(\"Original Text\")\n",
    "            st.write(raw_text)\n",
    "\n",
    "            st.success(\"Prediction\")\n",
    "            emoji_icon = emotions_emoji_dict[prediction]\n",
    "            st.write(\"{}:{}\".format(prediction, emoji_icon))\n",
    "            st.write(\"Confidence:{}\".format(np.max(probability)))\n",
    "\n",
    "        with col2:\n",
    "            st.success(\"Prediction Probability\")\n",
    "            proba_df = pd.DataFrame(probability, columns=pipe_lr.classes_)\n",
    "            proba_df_clean = proba_df.T.reset_index()\n",
    "            proba_df_clean.columns = [\"emotions\", \"probability\"]\n",
    "\n",
    "            fig = alt.Chart(proba_df_clean).mark_bar().encode(x='emotions', y='probability', color='emotions')\n",
    "            st.altair_chart(fig, use_container_width=True)"
   ]
  },
  {
   "cell_type": "code",
   "execution_count": null,
   "id": "d0163e1e",
   "metadata": {},
   "outputs": [],
   "source": [
    "!pip install --upgrade altair\n"
   ]
  },
  {
   "cell_type": "code",
   "execution_count": null,
   "id": "c3b5aea6",
   "metadata": {},
   "outputs": [],
   "source": [
    "conda update altair\n"
   ]
  },
  {
   "cell_type": "code",
   "execution_count": null,
   "id": "7f978ce3",
   "metadata": {},
   "outputs": [],
   "source": []
  }
 ],
 "metadata": {
  "kernelspec": {
   "display_name": "Python 3 (ipykernel)",
   "language": "python",
   "name": "python3"
  },
  "language_info": {
   "codemirror_mode": {
    "name": "ipython",
    "version": 3
   },
   "file_extension": ".py",
   "mimetype": "text/x-python",
   "name": "python",
   "nbconvert_exporter": "python",
   "pygments_lexer": "ipython3",
   "version": "3.9.7"
  }
 },
 "nbformat": 4,
 "nbformat_minor": 5
}
